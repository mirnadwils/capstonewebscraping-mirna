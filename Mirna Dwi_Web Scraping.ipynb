{
 "cells": [
  {
   "cell_type": "markdown",
   "metadata": {},
   "source": [
    "# Capstone Webscrapping using BeautifulSoup\n",
    "\n",
    "This notebook contains guidances & tasks on the data processing for the application\n",
    "\n",
    "## Background\n",
    "Dalam capstone project kali ini kita akan melakukan scrapping dari website coingecko.com untuk mengetahui fluktuasi harga etherium. Bagian data yang akan kita ambil adalah data waktu dan volume. Selanjutnya kedua data tersebut akan dibuat visualisasi sebuah plot pergerakan volume perdagangan dari Ethereum.\n",
    "\n",
    "## Requesting the Data and Creating a BeautifulSoup\n",
    "\n",
    "Let's begin with requesting the web from the site with `get` method. Hal pertama yang perlu dilakukan adalah mengakses link url dengan method `get`."
   ]
  },
  {
   "cell_type": "code",
   "execution_count": 1,
   "metadata": {
    "ExecuteTime": {
     "end_time": "2020-01-13T05:12:23.275508Z",
     "start_time": "2020-01-13T05:12:20.009898Z"
    }
   },
   "outputs": [],
   "source": [
    "import requests \n",
    "\n",
    "url = 'https://www.coingecko.com/en/coins/ethereum/historical_data/?start_date=2020-01-01&end_date=2021-06-30' #masukkan link url\n",
    "url_get = requests.get(url, headers = { 'User-Agent': 'Popular browser\\'s user-agent', }) "
   ]
  },
  {
   "cell_type": "markdown",
   "metadata": {},
   "source": [
    "To visualize what exactly you get from the `request.get`, we can use .content so ee what we exactly get, in here i slice it so it won't make our screen full of the html we get from the page. You can delete the slicing if you want to see what we fully get."
   ]
  },
  {
   "cell_type": "code",
   "execution_count": 2,
   "metadata": {
    "ExecuteTime": {
     "end_time": "2020-01-13T05:12:23.290648Z",
     "start_time": "2020-01-13T05:12:23.277650Z"
    }
   },
   "outputs": [
    {
     "data": {
      "text/plain": [
       "b'!DOCTYPE html>\\n<html lang=\"en\">\\n<head>\\n<script src=\"/cdn-cgi/apps/head/gYtXOyllgyP3-Z2iKTP8rRWGBm4.js\"></script><script async defer src=\"https://www.googleoptimize.com/optimize.js?id=GTM-W3CD992\"></script>\\n<meta charset=\"utf-8\">\\n<meta http-equiv=\"X-UA-Compatible\" content=\"IE=edge\">\\n<meta name=\"viewport\" content=\"width=device-width, initial-scale=1.0\">\\n<link rel=\"shortcut icon\" href=\"/favicon.ico\">\\n<link type=\"application/opensearchdescription+xml\" rel=\"search\" href=\"/OpensearchDescription.xml\" '"
      ]
     },
     "execution_count": 2,
     "metadata": {},
     "output_type": "execute_result"
    }
   ],
   "source": [
    "url_get.content[1:500] # dilakukan slicing pada source code html agar content url tidak terlalu panjang"
   ]
  },
  {
   "cell_type": "markdown",
   "metadata": {},
   "source": [
    "As we can see we get a very unstructured and complex html, which actually contains the codes needed to show the webpages on your web browser. But we as human still confused what and where we can use that piece of code, so here where we use the beautifulsoup. Beautiful soup class will result a beautifulsoup object. Beautiful Soup transforms a complex HTML document into a complex tree of Python objects. \n",
    "\n",
    "Let's make Beautiful soup object and feel free to explore the object here."
   ]
  },
  {
   "cell_type": "code",
   "execution_count": 3,
   "metadata": {
    "ExecuteTime": {
     "end_time": "2020-01-13T05:12:23.808122Z",
     "start_time": "2020-01-13T05:12:23.292610Z"
    }
   },
   "outputs": [
    {
     "name": "stdout",
     "output_type": "stream",
     "text": [
      "<class 'bs4.BeautifulSoup'>\n"
     ]
    }
   ],
   "source": [
    "from bs4 import BeautifulSoup \n",
    "\n",
    "soup = BeautifulSoup(url_get.content,\"html.parser\")\n",
    "print(type(soup)) #classnya menjadi berubah ke beautifulsoup"
   ]
  },
  {
   "cell_type": "code",
   "execution_count": 4,
   "metadata": {},
   "outputs": [
    {
     "name": "stdout",
     "output_type": "stream",
     "text": [
      "<!DOCTYPE html>\n",
      "<html lang=\"en\">\n",
      " <head>\n",
      "  <script src=\"/cdn-cgi/apps/head/gYtXOyllgyP3-Z2iKTP8rRWGBm4.js\">\n",
      "  </script>\n",
      "  <script async=\"\" defer=\"\" src=\"https://www.googleoptimize.com/optimize.js?id=GTM-W3CD992\">\n",
      "  </script>\n",
      "  <meta charset=\"utf-8\"/>\n",
      "  <meta content=\"IE=edge\" http-equiv=\"X-UA-Compatible\"/>\n",
      "  <meta content=\"width=device-width, initial-scale=1.0\" name=\"viewport\"/>\n",
      "  <link href=\"/favicon.ico\" rel=\"shortcut icon\"/>\n",
      "  <link href=\"/OpensearchDescription.xml\" rel=\"search\" type=\"applica\n"
     ]
    }
   ],
   "source": [
    "print(soup.prettify()[:500])\n",
    "#runtutan code pada 2 section ini dijalankan untuk mentransform code complex HTML menjadi tree pada python object"
   ]
  },
  {
   "cell_type": "markdown",
   "metadata": {},
   "source": [
    "Bisa dilihat code html terakhir menjadi lebih mudah dibaca oleh manusia jika dibandingkan dengan source code html sebelumnya."
   ]
  },
  {
   "cell_type": "markdown",
   "metadata": {},
   "source": [
    "## Finding the right key to scrap the data & Extracting the right information"
   ]
  },
  {
   "cell_type": "markdown",
   "metadata": {},
   "source": [
    "Find the key and put the key into the `.find()` Put all the exploring the right key at this cell. Dalam website etherium, kita harus mencari key code yang membungkus data tabel. Untuk mencari key codenya, kita harus membuka inspect element pada halaman website lalu cari code yang membungkus tabel tersebut."
   ]
  },
  {
   "cell_type": "code",
   "execution_count": 5,
   "metadata": {
    "ExecuteTime": {
     "end_time": "2020-01-13T05:12:23.878904Z",
     "start_time": "2020-01-13T05:12:23.854974Z"
    }
   },
   "outputs": [
    {
     "name": "stdout",
     "output_type": "stream",
     "text": [
      "tbody>\n",
      " <tr>\n",
      "  <th class=\"font-semibold text-center\" scope=\"row\">\n",
      "   2021-06-30\n",
      "  </th>\n",
      "  <td class=\"text-center\">\n",
      "   $253,607,549,372\n",
      "  </td>\n",
      "  <td class=\"text-center\">\n",
      "   $27,149,143,847\n",
      "  </td>\n",
      "  <td class=\"text-center\">\n",
      "   $2,169.40\n",
      "  </td>\n",
      "  <td class=\"text-center\">\n",
      "   N/A\n",
      "  </td>\n",
      " </tr>\n",
      " <tr>\n",
      "  <th class=\"font-semibold text-center\" scope=\"row\">\n",
      "   2021-06-29\n",
      "  </th>\n",
      "  <td class=\"text-center\">\n",
      "   $243,040,539,437\n",
      "  </td>\n",
      "  <td class=\"text-center\">\n",
      "   $30,629,329,806\n",
      "  </td>\n",
      "  <td class=\"te\n"
     ]
    }
   ],
   "source": [
    "table = soup.find('tbody') #function find digunakan untuk mencari informasi di beautifulsoup\n",
    "print(table.prettify()[1:500])\n",
    "#syntax tersebut digunakan untuk mendapatkan seluruh code yang membentuk tabel\n",
    "#dislicing agar tidak terlalu penuh"
   ]
  },
  {
   "cell_type": "code",
   "execution_count": 6,
   "metadata": {},
   "outputs": [
    {
     "data": {
      "text/plain": [
       "[<th class=\"font-semibold text-center\" scope=\"row\">2021-06-30</th>,\n",
       " <th class=\"font-semibold text-center\" scope=\"row\">2021-06-29</th>,\n",
       " <th class=\"font-semibold text-center\" scope=\"row\">2021-06-28</th>,\n",
       " <th class=\"font-semibold text-center\" scope=\"row\">2021-06-27</th>,\n",
       " <th class=\"font-semibold text-center\" scope=\"row\">2021-06-26</th>]"
      ]
     },
     "execution_count": 6,
     "metadata": {},
     "output_type": "execute_result"
    }
   ],
   "source": [
    "#coba kita gunakan `find_all` untuk mengambil seluruh data tanggal\n",
    "table.find_all('th', attrs={'class':'font-semibold text-center'})[:5]"
   ]
  },
  {
   "cell_type": "code",
   "execution_count": 7,
   "metadata": {},
   "outputs": [
    {
     "data": {
      "text/plain": [
       "'2021-06-30'"
      ]
     },
     "execution_count": 7,
     "metadata": {},
     "output_type": "execute_result"
    }
   ],
   "source": [
    "table.find_all('th', attrs={'class':'font-semibold text-center'})[0].text\n",
    "#untuk menghilangkan codenya gunakan function `.text`"
   ]
  },
  {
   "cell_type": "markdown",
   "metadata": {},
   "source": [
    "Karena jumlah data etherium cukup banyak, maka untuk mempermudah kita akan gunakan metode looping. Namun sebelumnya, kita harus mencari terlebih dahulu berapa banyak total baris untuk jumlah looping yang dilakukan.\n",
    "Finding row length."
   ]
  },
  {
   "cell_type": "code",
   "execution_count": 8,
   "metadata": {},
   "outputs": [
    {
     "data": {
      "text/plain": [
       "60"
      ]
     },
     "execution_count": 8,
     "metadata": {},
     "output_type": "execute_result"
    }
   ],
   "source": [
    "Data = table.find_all('th', attrs={'class':'font-semibold text-center'})\n",
    "len(Data)"
   ]
  },
  {
   "cell_type": "code",
   "execution_count": 9,
   "metadata": {},
   "outputs": [
    {
     "data": {
      "text/plain": [
       "60"
      ]
     },
     "execution_count": 9,
     "metadata": {},
     "output_type": "execute_result"
    }
   ],
   "source": [
    "#atau bisa juga dicari melalui 'tr', hasilnya sama saja\n",
    "Dataa = table.find_all('tr')\n",
    "len(Dataa)"
   ]
  },
  {
   "cell_type": "code",
   "execution_count": 10,
   "metadata": {},
   "outputs": [],
   "source": [
    "row_length = len(Data)"
   ]
  },
  {
   "cell_type": "markdown",
   "metadata": {},
   "source": [
    "Looping adalah pengulangan perintah beberapa kali. Dalam hal ini kita akan menscrapping data date dan volume dengan cara looping agar tidak perlu men-chaining berkali-kali. Syntax untuk looping biasanya dimulai dengan 'for i in range (__,__)' atau bisa jg menggunakan while. Dalam hal ini, syntax tersebut berarti, lakukan looping untuk i sebanyak range(). Ingat bahwa python memiliki index yang dimulai dari 0. sehingga perlu diperhatikan agar rentang looping tidak kurang."
   ]
  },
  {
   "cell_type": "code",
   "execution_count": 11,
   "metadata": {
    "ExecuteTime": {
     "end_time": "2020-01-13T05:12:24.008256Z",
     "start_time": "2020-01-13T05:12:23.980358Z"
    }
   },
   "outputs": [
    {
     "data": {
      "text/plain": [
       "[('2021-06-30', '$27,149,143,847'),\n",
       " ('2021-06-29', '$30,629,329,806'),\n",
       " ('2021-06-28', '$24,316,408,028'),\n",
       " ('2021-06-27', '$24,249,510,321'),\n",
       " ('2021-06-26', '$25,981,381,067'),\n",
       " ('2021-06-25', '$22,447,489,242'),\n",
       " ('2021-06-24', '$28,098,744,045'),\n",
       " ('2021-06-23', '$38,755,019,937'),\n",
       " ('2021-06-22', '$39,499,960,408'),\n",
       " ('2021-06-21', '$26,235,850,447'),\n",
       " ('2021-06-20', '$20,456,963,375'),\n",
       " ('2021-06-19', '$26,204,484,921'),\n",
       " ('2021-06-18', '$25,708,624,827'),\n",
       " ('2021-06-17', '$26,150,320,395'),\n",
       " ('2021-06-16', '$26,803,957,680'),\n",
       " ('2021-06-15', '$28,128,172,338'),\n",
       " ('2021-06-14', '$29,382,118,964'),\n",
       " ('2021-06-13', '$28,235,882,062'),\n",
       " ('2021-06-12', '$26,751,786,966'),\n",
       " ('2021-06-11', '$33,075,957,437'),\n",
       " ('2021-06-10', '$43,973,432,438'),\n",
       " ('2021-06-09', '$48,344,195,674'),\n",
       " ('2021-06-08', '$37,385,872,210'),\n",
       " ('2021-06-07', '$29,050,162,249'),\n",
       " ('2021-06-06', '$34,731,979,705'),\n",
       " ('2021-06-05', '$39,996,583,175'),\n",
       " ('2021-06-04', '$38,104,663,185'),\n",
       " ('2021-06-03', '$39,148,856,525'),\n",
       " ('2021-06-02', '$39,898,648,753'),\n",
       " ('2021-06-01', '$44,445,830,388'),\n",
       " ('2021-05-31', '$37,392,021,394'),\n",
       " ('2021-05-30', '$47,141,249,182'),\n",
       " ('2021-05-29', '$49,493,519,120'),\n",
       " ('2021-05-28', '$44,070,236,220'),\n",
       " ('2021-05-27', '$53,115,222,705'),\n",
       " ('2021-05-26', '$92,468,701,274'),\n",
       " ('2021-05-25', '$73,496,058,831'),\n",
       " ('2021-05-24', '$77,839,858,614'),\n",
       " ('2021-05-23', '$102,524,751,568'),\n",
       " ('2021-05-22', '$115,000,901,892'),\n",
       " ('2021-05-21', '$92,538,167,828'),\n",
       " ('2021-05-20', '$117,905,041,184'),\n",
       " ('2021-05-19', '$59,160,464,538'),\n",
       " ('2021-05-18', '$75,100,584,776'),\n",
       " ('2021-05-17', '$67,531,308,124'),\n",
       " ('2021-05-16', '$58,150,860,876'),\n",
       " ('2021-05-15', '$63,587,729,060'),\n",
       " ('2021-05-14', '$97,383,442,023'),\n",
       " ('2021-05-13', '$78,772,032,255'),\n",
       " ('2021-05-12', '$67,869,198,116'),\n",
       " ('2021-05-11', '$80,827,215,918'),\n",
       " ('2021-05-10', '$61,625,657,297'),\n",
       " ('2021-05-09', '$60,174,921,874'),\n",
       " ('2021-05-08', '$44,980,768,421'),\n",
       " ('2021-05-07', '$50,430,169,753'),\n",
       " ('2021-05-06', '$63,552,342,594'),\n",
       " ('2021-05-05', '$78,437,235,046'),\n",
       " ('2021-05-04', '$64,192,650,586'),\n",
       " ('2021-05-03', '$35,727,432,416'),\n",
       " ('2021-05-02', '$36,721,647,718')]"
      ]
     },
     "execution_count": 11,
     "metadata": {},
     "output_type": "execute_result"
    }
   ],
   "source": [
    "temp = [] #sebagai wadah untuk menyimpan list hasil scraping dengan cara looping\n",
    "\n",
    "for table in soup.find_all('tr')[1:]:\n",
    "\n",
    "    #Scrapping Date \n",
    "    date = table.find_all('th', attrs={'class':'font-semibold text-center'})\n",
    "    dates = date[0].text\n",
    "\n",
    "    #Scrapping Volume\n",
    "    volum = table.find_all('td')\n",
    "    volume = volum[1].text.strip()\n",
    "    \n",
    "    temp.append((dates,volume)) #gabungkan hasil scrapping date dan volume\n",
    "    \n",
    "temp\n"
   ]
  },
  {
   "cell_type": "markdown",
   "metadata": {},
   "source": [
    "## Creating data frame & Data wrangling"
   ]
  },
  {
   "cell_type": "markdown",
   "metadata": {},
   "source": [
    "Setelah berhasil mendapatkan list data dari hasil scrapping web, data tersebut akan dimasukan ke dalam dataframe berbentuk tabel."
   ]
  },
  {
   "cell_type": "code",
   "execution_count": 12,
   "metadata": {
    "ExecuteTime": {
     "end_time": "2020-01-13T05:12:41.517372Z",
     "start_time": "2020-01-13T05:12:29.130015Z"
    }
   },
   "outputs": [
    {
     "data": {
      "text/html": [
       "<div>\n",
       "<style scoped>\n",
       "    .dataframe tbody tr th:only-of-type {\n",
       "        vertical-align: middle;\n",
       "    }\n",
       "\n",
       "    .dataframe tbody tr th {\n",
       "        vertical-align: top;\n",
       "    }\n",
       "\n",
       "    .dataframe thead th {\n",
       "        text-align: right;\n",
       "    }\n",
       "</style>\n",
       "<table border=\"1\" class=\"dataframe\">\n",
       "  <thead>\n",
       "    <tr style=\"text-align: right;\">\n",
       "      <th></th>\n",
       "      <th>date</th>\n",
       "      <th>volume</th>\n",
       "    </tr>\n",
       "  </thead>\n",
       "  <tbody>\n",
       "    <tr>\n",
       "      <th>0</th>\n",
       "      <td>2021-06-30</td>\n",
       "      <td>$27,149,143,847</td>\n",
       "    </tr>\n",
       "    <tr>\n",
       "      <th>1</th>\n",
       "      <td>2021-06-29</td>\n",
       "      <td>$30,629,329,806</td>\n",
       "    </tr>\n",
       "    <tr>\n",
       "      <th>2</th>\n",
       "      <td>2021-06-28</td>\n",
       "      <td>$24,316,408,028</td>\n",
       "    </tr>\n",
       "    <tr>\n",
       "      <th>3</th>\n",
       "      <td>2021-06-27</td>\n",
       "      <td>$24,249,510,321</td>\n",
       "    </tr>\n",
       "    <tr>\n",
       "      <th>4</th>\n",
       "      <td>2021-06-26</td>\n",
       "      <td>$25,981,381,067</td>\n",
       "    </tr>\n",
       "  </tbody>\n",
       "</table>\n",
       "</div>"
      ],
      "text/plain": [
       "         date           volume\n",
       "0  2021-06-30  $27,149,143,847\n",
       "1  2021-06-29  $30,629,329,806\n",
       "2  2021-06-28  $24,316,408,028\n",
       "3  2021-06-27  $24,249,510,321\n",
       "4  2021-06-26  $25,981,381,067"
      ]
     },
     "execution_count": 12,
     "metadata": {},
     "output_type": "execute_result"
    }
   ],
   "source": [
    "import pandas as pd\n",
    "\n",
    "df = pd.DataFrame(temp, columns = ('date','volume'))\n",
    "df.head()"
   ]
  },
  {
   "cell_type": "code",
   "execution_count": 13,
   "metadata": {},
   "outputs": [
    {
     "data": {
      "text/plain": [
       "date      object\n",
       "volume    object\n",
       "dtype: object"
      ]
     },
     "execution_count": 13,
     "metadata": {},
     "output_type": "execute_result"
    }
   ],
   "source": [
    "df.dtypes #cek tipe data untuk persiapan proses data cleaning"
   ]
  },
  {
   "cell_type": "markdown",
   "metadata": {},
   "source": [
    "## Data Cleaning\n",
    "Sebelum melakukan analisis data lebih dalam, sesuaikan terlebih dahulu tipe data yang tercantum pada dataframe. Dalam hal ini, date akan diubah ke type data Date time sedangkan volume akan diubak menjadi int."
   ]
  },
  {
   "cell_type": "code",
   "execution_count": 14,
   "metadata": {},
   "outputs": [
    {
     "name": "stderr",
     "output_type": "stream",
     "text": [
      "C:\\Users\\ASUS\\AppData\\Local\\Temp\\ipykernel_8008\\3056373275.py:2: FutureWarning: The default value of regex will change from True to False in a future version. In addition, single character regular expressions will *not* be treated as literal strings when regex=True.\n",
      "  df['volume'] = df['volume'].str.replace(\"$\",\"\") #hapus '$' dari data volume\n"
     ]
    },
    {
     "data": {
      "text/plain": [
       "date      datetime64[ns]\n",
       "volume           float64\n",
       "dtype: object"
      ]
     },
     "execution_count": 14,
     "metadata": {},
     "output_type": "execute_result"
    }
   ],
   "source": [
    "df['volume'] = df['volume'].str.replace(\",\",\"\") #hapus koma dari data volume\n",
    "df['volume'] = df['volume'].str.replace(\"$\",\"\") #hapus '$' dari data volume\n",
    "df['volume'] = df['volume'].astype('float64') #ubah tipe data volume dari object menjadi float\n",
    "df['date'] = df['date'].astype('datetime64') #ubah tipe data date dari object menjadi datetime\n",
    "\n",
    "df.dtypes"
   ]
  },
  {
   "cell_type": "code",
   "execution_count": 15,
   "metadata": {},
   "outputs": [],
   "source": [
    "df = df.set_index('date')"
   ]
  },
  {
   "cell_type": "code",
   "execution_count": 16,
   "metadata": {
    "scrolled": true
   },
   "outputs": [
    {
     "data": {
      "text/html": [
       "<div>\n",
       "<style scoped>\n",
       "    .dataframe tbody tr th:only-of-type {\n",
       "        vertical-align: middle;\n",
       "    }\n",
       "\n",
       "    .dataframe tbody tr th {\n",
       "        vertical-align: top;\n",
       "    }\n",
       "\n",
       "    .dataframe thead th {\n",
       "        text-align: right;\n",
       "    }\n",
       "</style>\n",
       "<table border=\"1\" class=\"dataframe\">\n",
       "  <thead>\n",
       "    <tr style=\"text-align: right;\">\n",
       "      <th></th>\n",
       "      <th>volume</th>\n",
       "    </tr>\n",
       "    <tr>\n",
       "      <th>date</th>\n",
       "      <th></th>\n",
       "    </tr>\n",
       "  </thead>\n",
       "  <tbody>\n",
       "    <tr>\n",
       "      <th>2021-06-30</th>\n",
       "      <td>2.714914e+10</td>\n",
       "    </tr>\n",
       "    <tr>\n",
       "      <th>2021-06-29</th>\n",
       "      <td>3.062933e+10</td>\n",
       "    </tr>\n",
       "    <tr>\n",
       "      <th>2021-06-28</th>\n",
       "      <td>2.431641e+10</td>\n",
       "    </tr>\n",
       "    <tr>\n",
       "      <th>2021-06-27</th>\n",
       "      <td>2.424951e+10</td>\n",
       "    </tr>\n",
       "    <tr>\n",
       "      <th>2021-06-26</th>\n",
       "      <td>2.598138e+10</td>\n",
       "    </tr>\n",
       "  </tbody>\n",
       "</table>\n",
       "</div>"
      ],
      "text/plain": [
       "                  volume\n",
       "date                    \n",
       "2021-06-30  2.714914e+10\n",
       "2021-06-29  3.062933e+10\n",
       "2021-06-28  2.431641e+10\n",
       "2021-06-27  2.424951e+10\n",
       "2021-06-26  2.598138e+10"
      ]
     },
     "execution_count": 16,
     "metadata": {},
     "output_type": "execute_result"
    }
   ],
   "source": [
    "df.head()"
   ]
  },
  {
   "cell_type": "markdown",
   "metadata": {},
   "source": [
    "## Data Wrangling & Visualization"
   ]
  },
  {
   "cell_type": "code",
   "execution_count": 16,
   "metadata": {
    "ExecuteTime": {
     "end_time": "2020-01-13T05:12:59.165559Z",
     "start_time": "2020-01-13T05:12:58.910012Z"
    }
   },
   "outputs": [
    {
     "data": {
      "text/plain": [
       "<AxesSubplot:xlabel='date'>"
      ]
     },
     "execution_count": 16,
     "metadata": {},
     "output_type": "execute_result"
    },
    {
     "data": {
      "image/png": "[encoded data removed]",
      "text/plain": [
       "<Figure size 432x288 with 1 Axes>"
      ]
     },
     "metadata": {
      "needs_background": "light"
     },
     "output_type": "display_data"
    }
   ],
   "source": [
    "df.plot()"
   ]
  },
  {
   "cell_type": "markdown",
   "metadata": {},
   "source": [
    "### Insight yang didapat: \n",
    "terlihat perubahan harga dari etherium sangat fluktuatif dan terjadi peak di sekitar pertengahan Juni"
   ]
  },
  {
   "cell_type": "code",
   "execution_count": 19,
   "metadata": {},
   "outputs": [
    {
     "data": {
      "text/plain": [
       "<AxesSubplot:>"
      ]
     },
     "execution_count": 19,
     "metadata": {},
     "output_type": "execute_result"
    },
    {
     "data": {
      "image/png": "[encoded data removed]",
      "text/plain": [
       "<Figure size 432x288 with 1 Axes>"
      ]
     },
     "metadata": {
      "needs_background": "light"
     },
     "output_type": "display_data"
    }
   ],
   "source": [
    "df.plot(kind='box', vert=False)"
   ]
  },
  {
   "cell_type": "code",
   "execution_count": 17,
   "metadata": {
    "scrolled": true
   },
   "outputs": [
    {
     "data": {
      "text/html": [
       "<div>\n",
       "<style scoped>\n",
       "    .dataframe tbody tr th:only-of-type {\n",
       "        vertical-align: middle;\n",
       "    }\n",
       "\n",
       "    .dataframe tbody tr th {\n",
       "        vertical-align: top;\n",
       "    }\n",
       "\n",
       "    .dataframe thead th {\n",
       "        text-align: right;\n",
       "    }\n",
       "</style>\n",
       "<table border=\"1\" class=\"dataframe\">\n",
       "  <thead>\n",
       "    <tr style=\"text-align: right;\">\n",
       "      <th></th>\n",
       "      <th>date</th>\n",
       "      <th>volume</th>\n",
       "      <th>Month</th>\n",
       "      <th>Day</th>\n",
       "    </tr>\n",
       "  </thead>\n",
       "  <tbody>\n",
       "    <tr>\n",
       "      <th>0</th>\n",
       "      <td>2021-06-30</td>\n",
       "      <td>2.714914e+10</td>\n",
       "      <td>2021-06</td>\n",
       "      <td>Wednesday</td>\n",
       "    </tr>\n",
       "    <tr>\n",
       "      <th>1</th>\n",
       "      <td>2021-06-29</td>\n",
       "      <td>3.062933e+10</td>\n",
       "      <td>2021-06</td>\n",
       "      <td>Tuesday</td>\n",
       "    </tr>\n",
       "    <tr>\n",
       "      <th>2</th>\n",
       "      <td>2021-06-28</td>\n",
       "      <td>2.431641e+10</td>\n",
       "      <td>2021-06</td>\n",
       "      <td>Monday</td>\n",
       "    </tr>\n",
       "    <tr>\n",
       "      <th>3</th>\n",
       "      <td>2021-06-27</td>\n",
       "      <td>2.424951e+10</td>\n",
       "      <td>2021-06</td>\n",
       "      <td>Sunday</td>\n",
       "    </tr>\n",
       "    <tr>\n",
       "      <th>4</th>\n",
       "      <td>2021-06-26</td>\n",
       "      <td>2.598138e+10</td>\n",
       "      <td>2021-06</td>\n",
       "      <td>Saturday</td>\n",
       "    </tr>\n",
       "    <tr>\n",
       "      <th>5</th>\n",
       "      <td>2021-06-25</td>\n",
       "      <td>2.244749e+10</td>\n",
       "      <td>2021-06</td>\n",
       "      <td>Friday</td>\n",
       "    </tr>\n",
       "    <tr>\n",
       "      <th>6</th>\n",
       "      <td>2021-06-24</td>\n",
       "      <td>2.809874e+10</td>\n",
       "      <td>2021-06</td>\n",
       "      <td>Thursday</td>\n",
       "    </tr>\n",
       "    <tr>\n",
       "      <th>7</th>\n",
       "      <td>2021-06-23</td>\n",
       "      <td>3.875502e+10</td>\n",
       "      <td>2021-06</td>\n",
       "      <td>Wednesday</td>\n",
       "    </tr>\n",
       "    <tr>\n",
       "      <th>8</th>\n",
       "      <td>2021-06-22</td>\n",
       "      <td>3.949996e+10</td>\n",
       "      <td>2021-06</td>\n",
       "      <td>Tuesday</td>\n",
       "    </tr>\n",
       "    <tr>\n",
       "      <th>9</th>\n",
       "      <td>2021-06-21</td>\n",
       "      <td>2.623585e+10</td>\n",
       "      <td>2021-06</td>\n",
       "      <td>Monday</td>\n",
       "    </tr>\n",
       "    <tr>\n",
       "      <th>10</th>\n",
       "      <td>2021-06-20</td>\n",
       "      <td>2.045696e+10</td>\n",
       "      <td>2021-06</td>\n",
       "      <td>Sunday</td>\n",
       "    </tr>\n",
       "    <tr>\n",
       "      <th>11</th>\n",
       "      <td>2021-06-19</td>\n",
       "      <td>2.620448e+10</td>\n",
       "      <td>2021-06</td>\n",
       "      <td>Saturday</td>\n",
       "    </tr>\n",
       "    <tr>\n",
       "      <th>12</th>\n",
       "      <td>2021-06-18</td>\n",
       "      <td>2.570862e+10</td>\n",
       "      <td>2021-06</td>\n",
       "      <td>Friday</td>\n",
       "    </tr>\n",
       "    <tr>\n",
       "      <th>13</th>\n",
       "      <td>2021-06-17</td>\n",
       "      <td>2.615032e+10</td>\n",
       "      <td>2021-06</td>\n",
       "      <td>Thursday</td>\n",
       "    </tr>\n",
       "    <tr>\n",
       "      <th>14</th>\n",
       "      <td>2021-06-16</td>\n",
       "      <td>2.680396e+10</td>\n",
       "      <td>2021-06</td>\n",
       "      <td>Wednesday</td>\n",
       "    </tr>\n",
       "    <tr>\n",
       "      <th>15</th>\n",
       "      <td>2021-06-15</td>\n",
       "      <td>2.812817e+10</td>\n",
       "      <td>2021-06</td>\n",
       "      <td>Tuesday</td>\n",
       "    </tr>\n",
       "    <tr>\n",
       "      <th>16</th>\n",
       "      <td>2021-06-14</td>\n",
       "      <td>2.938212e+10</td>\n",
       "      <td>2021-06</td>\n",
       "      <td>Monday</td>\n",
       "    </tr>\n",
       "    <tr>\n",
       "      <th>17</th>\n",
       "      <td>2021-06-13</td>\n",
       "      <td>2.823588e+10</td>\n",
       "      <td>2021-06</td>\n",
       "      <td>Sunday</td>\n",
       "    </tr>\n",
       "    <tr>\n",
       "      <th>18</th>\n",
       "      <td>2021-06-12</td>\n",
       "      <td>2.675179e+10</td>\n",
       "      <td>2021-06</td>\n",
       "      <td>Saturday</td>\n",
       "    </tr>\n",
       "    <tr>\n",
       "      <th>19</th>\n",
       "      <td>2021-06-11</td>\n",
       "      <td>3.307596e+10</td>\n",
       "      <td>2021-06</td>\n",
       "      <td>Friday</td>\n",
       "    </tr>\n",
       "    <tr>\n",
       "      <th>20</th>\n",
       "      <td>2021-06-10</td>\n",
       "      <td>4.397343e+10</td>\n",
       "      <td>2021-06</td>\n",
       "      <td>Thursday</td>\n",
       "    </tr>\n",
       "    <tr>\n",
       "      <th>21</th>\n",
       "      <td>2021-06-09</td>\n",
       "      <td>4.834420e+10</td>\n",
       "      <td>2021-06</td>\n",
       "      <td>Wednesday</td>\n",
       "    </tr>\n",
       "    <tr>\n",
       "      <th>22</th>\n",
       "      <td>2021-06-08</td>\n",
       "      <td>3.738587e+10</td>\n",
       "      <td>2021-06</td>\n",
       "      <td>Tuesday</td>\n",
       "    </tr>\n",
       "    <tr>\n",
       "      <th>23</th>\n",
       "      <td>2021-06-07</td>\n",
       "      <td>2.905016e+10</td>\n",
       "      <td>2021-06</td>\n",
       "      <td>Monday</td>\n",
       "    </tr>\n",
       "    <tr>\n",
       "      <th>24</th>\n",
       "      <td>2021-06-06</td>\n",
       "      <td>3.473198e+10</td>\n",
       "      <td>2021-06</td>\n",
       "      <td>Sunday</td>\n",
       "    </tr>\n",
       "    <tr>\n",
       "      <th>25</th>\n",
       "      <td>2021-06-05</td>\n",
       "      <td>3.999658e+10</td>\n",
       "      <td>2021-06</td>\n",
       "      <td>Saturday</td>\n",
       "    </tr>\n",
       "    <tr>\n",
       "      <th>26</th>\n",
       "      <td>2021-06-04</td>\n",
       "      <td>3.810466e+10</td>\n",
       "      <td>2021-06</td>\n",
       "      <td>Friday</td>\n",
       "    </tr>\n",
       "    <tr>\n",
       "      <th>27</th>\n",
       "      <td>2021-06-03</td>\n",
       "      <td>3.914886e+10</td>\n",
       "      <td>2021-06</td>\n",
       "      <td>Thursday</td>\n",
       "    </tr>\n",
       "    <tr>\n",
       "      <th>28</th>\n",
       "      <td>2021-06-02</td>\n",
       "      <td>3.989865e+10</td>\n",
       "      <td>2021-06</td>\n",
       "      <td>Wednesday</td>\n",
       "    </tr>\n",
       "    <tr>\n",
       "      <th>29</th>\n",
       "      <td>2021-06-01</td>\n",
       "      <td>4.444583e+10</td>\n",
       "      <td>2021-06</td>\n",
       "      <td>Tuesday</td>\n",
       "    </tr>\n",
       "    <tr>\n",
       "      <th>30</th>\n",
       "      <td>2021-05-31</td>\n",
       "      <td>3.739202e+10</td>\n",
       "      <td>2021-05</td>\n",
       "      <td>Monday</td>\n",
       "    </tr>\n",
       "    <tr>\n",
       "      <th>31</th>\n",
       "      <td>2021-05-30</td>\n",
       "      <td>4.714125e+10</td>\n",
       "      <td>2021-05</td>\n",
       "      <td>Sunday</td>\n",
       "    </tr>\n",
       "    <tr>\n",
       "      <th>32</th>\n",
       "      <td>2021-05-29</td>\n",
       "      <td>4.949352e+10</td>\n",
       "      <td>2021-05</td>\n",
       "      <td>Saturday</td>\n",
       "    </tr>\n",
       "    <tr>\n",
       "      <th>33</th>\n",
       "      <td>2021-05-28</td>\n",
       "      <td>4.407024e+10</td>\n",
       "      <td>2021-05</td>\n",
       "      <td>Friday</td>\n",
       "    </tr>\n",
       "    <tr>\n",
       "      <th>34</th>\n",
       "      <td>2021-05-27</td>\n",
       "      <td>5.311522e+10</td>\n",
       "      <td>2021-05</td>\n",
       "      <td>Thursday</td>\n",
       "    </tr>\n",
       "    <tr>\n",
       "      <th>35</th>\n",
       "      <td>2021-05-26</td>\n",
       "      <td>9.246870e+10</td>\n",
       "      <td>2021-05</td>\n",
       "      <td>Wednesday</td>\n",
       "    </tr>\n",
       "    <tr>\n",
       "      <th>36</th>\n",
       "      <td>2021-05-25</td>\n",
       "      <td>7.349606e+10</td>\n",
       "      <td>2021-05</td>\n",
       "      <td>Tuesday</td>\n",
       "    </tr>\n",
       "    <tr>\n",
       "      <th>37</th>\n",
       "      <td>2021-05-24</td>\n",
       "      <td>7.783986e+10</td>\n",
       "      <td>2021-05</td>\n",
       "      <td>Monday</td>\n",
       "    </tr>\n",
       "    <tr>\n",
       "      <th>38</th>\n",
       "      <td>2021-05-23</td>\n",
       "      <td>1.025248e+11</td>\n",
       "      <td>2021-05</td>\n",
       "      <td>Sunday</td>\n",
       "    </tr>\n",
       "    <tr>\n",
       "      <th>39</th>\n",
       "      <td>2021-05-22</td>\n",
       "      <td>1.150009e+11</td>\n",
       "      <td>2021-05</td>\n",
       "      <td>Saturday</td>\n",
       "    </tr>\n",
       "    <tr>\n",
       "      <th>40</th>\n",
       "      <td>2021-05-21</td>\n",
       "      <td>9.253817e+10</td>\n",
       "      <td>2021-05</td>\n",
       "      <td>Friday</td>\n",
       "    </tr>\n",
       "    <tr>\n",
       "      <th>41</th>\n",
       "      <td>2021-05-20</td>\n",
       "      <td>1.179050e+11</td>\n",
       "      <td>2021-05</td>\n",
       "      <td>Thursday</td>\n",
       "    </tr>\n",
       "    <tr>\n",
       "      <th>42</th>\n",
       "      <td>2021-05-19</td>\n",
       "      <td>5.916046e+10</td>\n",
       "      <td>2021-05</td>\n",
       "      <td>Wednesday</td>\n",
       "    </tr>\n",
       "    <tr>\n",
       "      <th>43</th>\n",
       "      <td>2021-05-18</td>\n",
       "      <td>7.510058e+10</td>\n",
       "      <td>2021-05</td>\n",
       "      <td>Tuesday</td>\n",
       "    </tr>\n",
       "    <tr>\n",
       "      <th>44</th>\n",
       "      <td>2021-05-17</td>\n",
       "      <td>6.753131e+10</td>\n",
       "      <td>2021-05</td>\n",
       "      <td>Monday</td>\n",
       "    </tr>\n",
       "    <tr>\n",
       "      <th>45</th>\n",
       "      <td>2021-05-16</td>\n",
       "      <td>5.815086e+10</td>\n",
       "      <td>2021-05</td>\n",
       "      <td>Sunday</td>\n",
       "    </tr>\n",
       "    <tr>\n",
       "      <th>46</th>\n",
       "      <td>2021-05-15</td>\n",
       "      <td>6.358773e+10</td>\n",
       "      <td>2021-05</td>\n",
       "      <td>Saturday</td>\n",
       "    </tr>\n",
       "    <tr>\n",
       "      <th>47</th>\n",
       "      <td>2021-05-14</td>\n",
       "      <td>9.738344e+10</td>\n",
       "      <td>2021-05</td>\n",
       "      <td>Friday</td>\n",
       "    </tr>\n",
       "    <tr>\n",
       "      <th>48</th>\n",
       "      <td>2021-05-13</td>\n",
       "      <td>7.877203e+10</td>\n",
       "      <td>2021-05</td>\n",
       "      <td>Thursday</td>\n",
       "    </tr>\n",
       "    <tr>\n",
       "      <th>49</th>\n",
       "      <td>2021-05-12</td>\n",
       "      <td>6.786920e+10</td>\n",
       "      <td>2021-05</td>\n",
       "      <td>Wednesday</td>\n",
       "    </tr>\n",
       "    <tr>\n",
       "      <th>50</th>\n",
       "      <td>2021-05-11</td>\n",
       "      <td>8.082722e+10</td>\n",
       "      <td>2021-05</td>\n",
       "      <td>Tuesday</td>\n",
       "    </tr>\n",
       "    <tr>\n",
       "      <th>51</th>\n",
       "      <td>2021-05-10</td>\n",
       "      <td>6.162566e+10</td>\n",
       "      <td>2021-05</td>\n",
       "      <td>Monday</td>\n",
       "    </tr>\n",
       "    <tr>\n",
       "      <th>52</th>\n",
       "      <td>2021-05-09</td>\n",
       "      <td>6.017492e+10</td>\n",
       "      <td>2021-05</td>\n",
       "      <td>Sunday</td>\n",
       "    </tr>\n",
       "    <tr>\n",
       "      <th>53</th>\n",
       "      <td>2021-05-08</td>\n",
       "      <td>4.498077e+10</td>\n",
       "      <td>2021-05</td>\n",
       "      <td>Saturday</td>\n",
       "    </tr>\n",
       "    <tr>\n",
       "      <th>54</th>\n",
       "      <td>2021-05-07</td>\n",
       "      <td>5.043017e+10</td>\n",
       "      <td>2021-05</td>\n",
       "      <td>Friday</td>\n",
       "    </tr>\n",
       "    <tr>\n",
       "      <th>55</th>\n",
       "      <td>2021-05-06</td>\n",
       "      <td>6.355234e+10</td>\n",
       "      <td>2021-05</td>\n",
       "      <td>Thursday</td>\n",
       "    </tr>\n",
       "    <tr>\n",
       "      <th>56</th>\n",
       "      <td>2021-05-05</td>\n",
       "      <td>7.843724e+10</td>\n",
       "      <td>2021-05</td>\n",
       "      <td>Wednesday</td>\n",
       "    </tr>\n",
       "    <tr>\n",
       "      <th>57</th>\n",
       "      <td>2021-05-04</td>\n",
       "      <td>6.419265e+10</td>\n",
       "      <td>2021-05</td>\n",
       "      <td>Tuesday</td>\n",
       "    </tr>\n",
       "    <tr>\n",
       "      <th>58</th>\n",
       "      <td>2021-05-03</td>\n",
       "      <td>3.572743e+10</td>\n",
       "      <td>2021-05</td>\n",
       "      <td>Monday</td>\n",
       "    </tr>\n",
       "    <tr>\n",
       "      <th>59</th>\n",
       "      <td>2021-05-02</td>\n",
       "      <td>3.672165e+10</td>\n",
       "      <td>2021-05</td>\n",
       "      <td>Sunday</td>\n",
       "    </tr>\n",
       "  </tbody>\n",
       "</table>\n",
       "</div>"
      ],
      "text/plain": [
       "         date        volume    Month        Day\n",
       "0  2021-06-30  2.714914e+10  2021-06  Wednesday\n",
       "1  2021-06-29  3.062933e+10  2021-06    Tuesday\n",
       "2  2021-06-28  2.431641e+10  2021-06     Monday\n",
       "3  2021-06-27  2.424951e+10  2021-06     Sunday\n",
       "4  2021-06-26  2.598138e+10  2021-06   Saturday\n",
       "5  2021-06-25  2.244749e+10  2021-06     Friday\n",
       "6  2021-06-24  2.809874e+10  2021-06   Thursday\n",
       "7  2021-06-23  3.875502e+10  2021-06  Wednesday\n",
       "8  2021-06-22  3.949996e+10  2021-06    Tuesday\n",
       "9  2021-06-21  2.623585e+10  2021-06     Monday\n",
       "10 2021-06-20  2.045696e+10  2021-06     Sunday\n",
       "11 2021-06-19  2.620448e+10  2021-06   Saturday\n",
       "12 2021-06-18  2.570862e+10  2021-06     Friday\n",
       "13 2021-06-17  2.615032e+10  2021-06   Thursday\n",
       "14 2021-06-16  2.680396e+10  2021-06  Wednesday\n",
       "15 2021-06-15  2.812817e+10  2021-06    Tuesday\n",
       "16 2021-06-14  2.938212e+10  2021-06     Monday\n",
       "17 2021-06-13  2.823588e+10  2021-06     Sunday\n",
       "18 2021-06-12  2.675179e+10  2021-06   Saturday\n",
       "19 2021-06-11  3.307596e+10  2021-06     Friday\n",
       "20 2021-06-10  4.397343e+10  2021-06   Thursday\n",
       "21 2021-06-09  4.834420e+10  2021-06  Wednesday\n",
       "22 2021-06-08  3.738587e+10  2021-06    Tuesday\n",
       "23 2021-06-07  2.905016e+10  2021-06     Monday\n",
       "24 2021-06-06  3.473198e+10  2021-06     Sunday\n",
       "25 2021-06-05  3.999658e+10  2021-06   Saturday\n",
       "26 2021-06-04  3.810466e+10  2021-06     Friday\n",
       "27 2021-06-03  3.914886e+10  2021-06   Thursday\n",
       "28 2021-06-02  3.989865e+10  2021-06  Wednesday\n",
       "29 2021-06-01  4.444583e+10  2021-06    Tuesday\n",
       "30 2021-05-31  3.739202e+10  2021-05     Monday\n",
       "31 2021-05-30  4.714125e+10  2021-05     Sunday\n",
       "32 2021-05-29  4.949352e+10  2021-05   Saturday\n",
       "33 2021-05-28  4.407024e+10  2021-05     Friday\n",
       "34 2021-05-27  5.311522e+10  2021-05   Thursday\n",
       "35 2021-05-26  9.246870e+10  2021-05  Wednesday\n",
       "36 2021-05-25  7.349606e+10  2021-05    Tuesday\n",
       "37 2021-05-24  7.783986e+10  2021-05     Monday\n",
       "38 2021-05-23  1.025248e+11  2021-05     Sunday\n",
       "39 2021-05-22  1.150009e+11  2021-05   Saturday\n",
       "40 2021-05-21  9.253817e+10  2021-05     Friday\n",
       "41 2021-05-20  1.179050e+11  2021-05   Thursday\n",
       "42 2021-05-19  5.916046e+10  2021-05  Wednesday\n",
       "43 2021-05-18  7.510058e+10  2021-05    Tuesday\n",
       "44 2021-05-17  6.753131e+10  2021-05     Monday\n",
       "45 2021-05-16  5.815086e+10  2021-05     Sunday\n",
       "46 2021-05-15  6.358773e+10  2021-05   Saturday\n",
       "47 2021-05-14  9.738344e+10  2021-05     Friday\n",
       "48 2021-05-13  7.877203e+10  2021-05   Thursday\n",
       "49 2021-05-12  6.786920e+10  2021-05  Wednesday\n",
       "50 2021-05-11  8.082722e+10  2021-05    Tuesday\n",
       "51 2021-05-10  6.162566e+10  2021-05     Monday\n",
       "52 2021-05-09  6.017492e+10  2021-05     Sunday\n",
       "53 2021-05-08  4.498077e+10  2021-05   Saturday\n",
       "54 2021-05-07  5.043017e+10  2021-05     Friday\n",
       "55 2021-05-06  6.355234e+10  2021-05   Thursday\n",
       "56 2021-05-05  7.843724e+10  2021-05  Wednesday\n",
       "57 2021-05-04  6.419265e+10  2021-05    Tuesday\n",
       "58 2021-05-03  3.572743e+10  2021-05     Monday\n",
       "59 2021-05-02  3.672165e+10  2021-05     Sunday"
      ]
     },
     "execution_count": 17,
     "metadata": {},
     "output_type": "execute_result"
    }
   ],
   "source": [
    "df = df.reset_index()\n",
    "df['Month'] = df['date'].dt.to_period('M')\n",
    "df['Day'] = df['date'].dt.day_name()\n",
    "df"
   ]
  },
  {
   "cell_type": "code",
   "execution_count": 30,
   "metadata": {},
   "outputs": [
    {
     "data": {
      "text/html": [
       "<div>\n",
       "<style scoped>\n",
       "    .dataframe tbody tr th:only-of-type {\n",
       "        vertical-align: middle;\n",
       "    }\n",
       "\n",
       "    .dataframe tbody tr th {\n",
       "        vertical-align: top;\n",
       "    }\n",
       "\n",
       "    .dataframe thead th {\n",
       "        text-align: right;\n",
       "    }\n",
       "</style>\n",
       "<table border=\"1\" class=\"dataframe\">\n",
       "  <thead>\n",
       "    <tr style=\"text-align: right;\">\n",
       "      <th></th>\n",
       "      <th>volume</th>\n",
       "    </tr>\n",
       "    <tr>\n",
       "      <th>Month</th>\n",
       "      <th></th>\n",
       "    </tr>\n",
       "  </thead>\n",
       "  <tbody>\n",
       "    <tr>\n",
       "      <th>2021-05</th>\n",
       "      <td>6.824038e+10</td>\n",
       "    </tr>\n",
       "    <tr>\n",
       "      <th>2021-06</th>\n",
       "      <td>3.177804e+10</td>\n",
       "    </tr>\n",
       "  </tbody>\n",
       "</table>\n",
       "</div>"
      ],
      "text/plain": [
       "               volume\n",
       "Month                \n",
       "2021-05  6.824038e+10\n",
       "2021-06  3.177804e+10"
      ]
     },
     "execution_count": 30,
     "metadata": {},
     "output_type": "execute_result"
    }
   ],
   "source": [
    "month_volume = df.groupby('Month').mean()\n",
    "month_volume"
   ]
  },
  {
   "cell_type": "code",
   "execution_count": 31,
   "metadata": {
    "scrolled": false
   },
   "outputs": [
    {
     "data": {
      "text/plain": [
       "<AxesSubplot:xlabel='Month'>"
      ]
     },
     "execution_count": 31,
     "metadata": {},
     "output_type": "execute_result"
    },
    {
     "data": {
      "image/png": "[encoded data removed]",
      "text/plain": [
       "<Figure size 432x288 with 1 Axes>"
      ]
     },
     "metadata": {
      "needs_background": "light"
     },
     "output_type": "display_data"
    }
   ],
   "source": [
    "month_volume.plot.bar()"
   ]
  },
  {
   "cell_type": "markdown",
   "metadata": {},
   "source": [
    "### Insight\n",
    "Rata-rata harga etherium pada bulan Mei lebih besar dibanding bulan Juni"
   ]
  },
  {
   "cell_type": "code",
   "execution_count": 27,
   "metadata": {},
   "outputs": [
    {
     "data": {
      "text/html": [
       "<div>\n",
       "<style scoped>\n",
       "    .dataframe tbody tr th:only-of-type {\n",
       "        vertical-align: middle;\n",
       "    }\n",
       "\n",
       "    .dataframe tbody tr th {\n",
       "        vertical-align: top;\n",
       "    }\n",
       "\n",
       "    .dataframe thead th {\n",
       "        text-align: right;\n",
       "    }\n",
       "</style>\n",
       "<table border=\"1\" class=\"dataframe\">\n",
       "  <thead>\n",
       "    <tr style=\"text-align: right;\">\n",
       "      <th></th>\n",
       "      <th>volume</th>\n",
       "    </tr>\n",
       "    <tr>\n",
       "      <th>Day</th>\n",
       "      <th></th>\n",
       "    </tr>\n",
       "  </thead>\n",
       "  <tbody>\n",
       "    <tr>\n",
       "      <th>Friday</th>\n",
       "      <td>4.037588e+11</td>\n",
       "    </tr>\n",
       "    <tr>\n",
       "      <th>Monday</th>\n",
       "      <td>3.891008e+11</td>\n",
       "    </tr>\n",
       "    <tr>\n",
       "      <th>Saturday</th>\n",
       "      <td>3.919972e+11</td>\n",
       "    </tr>\n",
       "    <tr>\n",
       "      <th>Sunday</th>\n",
       "      <td>4.123878e+11</td>\n",
       "    </tr>\n",
       "    <tr>\n",
       "      <th>Thursday</th>\n",
       "      <td>4.507160e+11</td>\n",
       "    </tr>\n",
       "    <tr>\n",
       "      <th>Tuesday</th>\n",
       "      <td>4.737057e+11</td>\n",
       "    </tr>\n",
       "    <tr>\n",
       "      <th>Wednesday</th>\n",
       "      <td>4.788866e+11</td>\n",
       "    </tr>\n",
       "  </tbody>\n",
       "</table>\n",
       "</div>"
      ],
      "text/plain": [
       "                 volume\n",
       "Day                    \n",
       "Friday     4.037588e+11\n",
       "Monday     3.891008e+11\n",
       "Saturday   3.919972e+11\n",
       "Sunday     4.123878e+11\n",
       "Thursday   4.507160e+11\n",
       "Tuesday    4.737057e+11\n",
       "Wednesday  4.788866e+11"
      ]
     },
     "execution_count": 27,
     "metadata": {},
     "output_type": "execute_result"
    }
   ],
   "source": [
    "day_volume = df.groupby('Day').sum()\n",
    "day_volume"
   ]
  },
  {
   "cell_type": "code",
   "execution_count": 29,
   "metadata": {},
   "outputs": [
    {
     "data": {
      "text/plain": [
       "<AxesSubplot:xlabel='Day'>"
      ]
     },
     "execution_count": 29,
     "metadata": {},
     "output_type": "execute_result"
    },
    {
     "data": {
      "image/png": "[encoded data removed]",
      "text/plain": [
       "<Figure size 432x288 with 1 Axes>"
      ]
     },
     "metadata": {
      "needs_background": "light"
     },
     "output_type": "display_data"
    }
   ],
   "source": [
    "day_volume.plot()"
   ]
  },
  {
   "cell_type": "markdown",
   "metadata": {},
   "source": [
    "### Insight:\n",
    "Harga etherium tertinggi terjadi di hari Rabu sedangkan terendahnya di hari Senin."
   ]
  },
  {
   "cell_type": "markdown",
   "metadata": {},
   "source": [
    "### Implementing your webscrapping to the flask dashboard\n",
    "\n",
    "- Copy paste all of your web scrapping process to the desired position on the `app.py`\n",
    "- Changing the title of the dasboard at `index.html`"
   ]
  },
  {
   "cell_type": "markdown",
   "metadata": {},
   "source": [
    "## Finishing This Notebook with Your Analysis and Conclusion"
   ]
  },
  {
   "cell_type": "markdown",
   "metadata": {},
   "source": [
    "Beberapa insight yang didapat dari hasil data wrangling dan visualisasi telah disebutkan pada insight masing-masing visualisasi data."
   ]
  },
  {
   "cell_type": "markdown",
   "metadata": {},
   "source": [
    "### Extra Challange\n",
    "\n",
    "This will be not included to the scoring. \n",
    "\n",
    "- You can create additional analysis from the data.\n",
    "- Implement it to the dashboard with at `app.py` dan `index.html`."
   ]
  }
 ],
 "metadata": {
  "kernelspec": {
   "display_name": "web_scrape",
   "language": "python",
   "name": "web_scrape"
  },
  "language_info": {
   "codemirror_mode": {
    "name": "ipython",
    "version": 3
   },
   "file_extension": ".py",
   "mimetype": "text/x-python",
   "name": "python",
   "nbconvert_exporter": "python",
   "pygments_lexer": "ipython3",
   "version": "3.9.12"
  }
 },
 "nbformat": 4,
 "nbformat_minor": 2
}
